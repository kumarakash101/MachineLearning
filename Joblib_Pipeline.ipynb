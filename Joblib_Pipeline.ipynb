{
 "cells": [
  {
   "cell_type": "code",
   "execution_count": 1,
   "id": "003ea2b9-b66d-4028-9e3e-2ac3f0071784",
   "metadata": {},
   "outputs": [],
   "source": [
    "import numpy as np\n",
    "import pandas as pd\n",
    "import matplotlib.pyplot as plt\n",
    "import seaborn as sns\n",
    "import joblib\n",
    "import os\n",
    "\n",
    "from sklearn.pipeline import Pipeline\n",
    "from sklearn.model_selection import train_test_split\n",
    "from sklearn.preprocessing import OneHotEncoder, StandardScaler\n",
    "from sklearn.ensemble import RandomForestRegressor\n",
    "from sklearn.impute import SimpleImputer\n",
    "from sklearn.compose import ColumnTransformer\n",
    "from sklearn.model_selection import StratifiedShuffleSplit\n",
    "\n",
    "\n"
   ]
  },
  {
   "cell_type": "code",
   "execution_count": 2,
   "id": "aeb042a2-6286-4df6-9e8f-8e6a1da4344f",
   "metadata": {},
   "outputs": [],
   "source": [
    "MODEL_FILE = \"model.pkl\"\n",
    "PIPELINE_FILE = \"pipeline.pkl\""
   ]
  },
  {
   "cell_type": "code",
   "execution_count": 4,
   "id": "c1c64e04-c07d-476e-ad1a-9975fb9d3909",
   "metadata": {},
   "outputs": [
    {
     "name": "stdout",
     "output_type": "stream",
     "text": [
      "Inference is completed, Please see the saved result in housemodel_output_file.csv file \n"
     ]
    }
   ],
   "source": [
    "def build_pipeline(num_attribs, cat_attribs):\n",
    "\n",
    "    num_pipeline = Pipeline([\n",
    "        (\"imputer_data\", SimpleImputer(strategy=\"median\")),\n",
    "        (\"scale_data\", StandardScaler())\n",
    "    ])\n",
    "\n",
    "    cat_pipeline = Pipeline([\n",
    "        (\"hot_encode_data\",OneHotEncoder(handle_unknown=\"ignore\"))\n",
    "    ])\n",
    "\n",
    "    full_pipeline = ColumnTransformer([\n",
    "        (\"num\",num_pipeline, num_attribs),\n",
    "        (\"cat\", cat_pipeline, cat_attribs)\n",
    "    ])\n",
    "\n",
    "    return full_pipeline\n",
    "\n",
    "# IF the model does not exist i.e if the model is getting trained for the fisrst time then do this\n",
    "\n",
    "if not os.path.exists(MODEL_FILE):\n",
    "    # read the csv file\n",
    "    housing = pd.read_csv(\"housing.csv\")\n",
    "\n",
    "\n",
    "    # add income catregory\n",
    "    housing[\"income_cat\"] = pd.cut(housing[\"median_income\"],\n",
    "                                  bins=[0.0,1.5,3.0,4.5,6.0, np.inf],\n",
    "                                   labels=[1,2,3,4,5])\n",
    "\n",
    "    # using stratified shuffle split so that every important variable is included in the training set\n",
    "    mysplit = StratifiedShuffleSplit(n_splits=1,test_size=0.2,random_state=42)\n",
    "\n",
    "    for train_index,test_index in mysplit.split(housing, housing[\"income_cat\"]):\n",
    "        housing.loc[test_index].drop(\"income_cat\", axis=1).to_csv(\"input.csv\", index=False) \n",
    "        housing = housing.loc[train_index]\n",
    "        \n",
    "    housing = housing.drop([\"income_cat\"], axis=1)\n",
    "    \n",
    "    # seprating housing dataset into labesl and features \n",
    "    housing_labels = housing[\"median_house_value\"].copy()\n",
    "    housing_features = housing.drop([\"median_house_value\"],axis=1)\n",
    "\n",
    "    \n",
    "    # seprating the categorical and numnerical attributes\n",
    "    numerical_attributes = housing_features.drop([\"ocean_proximity\"],axis=1).columns.tolist()\n",
    "    categorical_attributes = [\"ocean_proximity\"]\n",
    "\n",
    "    \n",
    "    # calling build_pipeline() function to create a complete pipeline\n",
    "    mypipeline = build_pipeline(numerical_attributes,categorical_attributes)\n",
    "    housing_prepared = mypipeline.fit_transform(housing_features)\n",
    "\n",
    "    # Training the model on the dataset\n",
    "    model = RandomForestRegressor(random_state=42)\n",
    "    model.fit(housing_prepared, housing_labels)\n",
    "\n",
    "    # Storing the model and pipeline using joblib\n",
    "    joblib.dump(model,MODEL_FILE)\n",
    "    joblib.dump(mypipeline, PIPELINE_FILE)\n",
    "\n",
    "    print(\"Pipeline and model created and saved SUCCESSFULLY !!\")\n",
    "\n",
    "# If there is a model and pipeline PKL already exists then inference the input data\n",
    "else:\n",
    "    model = joblib.load(MODEL_FILE)\n",
    "    pipeline = joblib.load(PIPELINE_FILE)\n",
    "     \n",
    "    input_data = pd.read_csv(\"input.csv\")\n",
    "    transformed_input = pipeline.transform(input_data)\n",
    "    predictions = model.predict(transformed_input)\n",
    "    input_data[\"median_house_value\"]=predictions\n",
    "\n",
    "    input_data.to_csv(\"housemodel_output_file.csv\",index=False)\n",
    "    print(\"Inference is completed, Please see the saved result in housemodel_output_file.csv file \")"
   ]
  },
  {
   "cell_type": "code",
   "execution_count": null,
   "id": "5d99ccfa-aa54-4f79-9961-705507cc762a",
   "metadata": {},
   "outputs": [],
   "source": []
  }
 ],
 "metadata": {
  "kernelspec": {
   "display_name": "Python 3 (ipykernel)",
   "language": "python",
   "name": "python3"
  },
  "language_info": {
   "codemirror_mode": {
    "name": "ipython",
    "version": 3
   },
   "file_extension": ".py",
   "mimetype": "text/x-python",
   "name": "python",
   "nbconvert_exporter": "python",
   "pygments_lexer": "ipython3",
   "version": "3.13.0"
  }
 },
 "nbformat": 4,
 "nbformat_minor": 5
}

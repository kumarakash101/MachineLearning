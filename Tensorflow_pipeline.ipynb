{
 "cells": [
  {
   "cell_type": "code",
   "execution_count": 2,
   "id": "3718cf17-38b0-49ac-901b-2a892e2f8167",
   "metadata": {},
   "outputs": [],
   "source": [
    "import tensorflow as tf"
   ]
  },
  {
   "cell_type": "code",
   "execution_count": 4,
   "id": "d3248b3d-b058-4bee-97d7-ab1119149e48",
   "metadata": {},
   "outputs": [],
   "source": [
    "sales_data = [10,-20,33,120,-40,4,65,90,-23,83,-1,34,-31]\n"
   ]
  },
  {
   "cell_type": "code",
   "execution_count": 5,
   "id": "608a869e-597f-4450-a31f-35495ac39eab",
   "metadata": {},
   "outputs": [],
   "source": [
    "# Saving the data into dataset\n",
    "\n",
    "tf_dataset = tf.data.Dataset.from_tensor_slices(sales_data)"
   ]
  },
  {
   "cell_type": "code",
   "execution_count": 6,
   "id": "88815e66-877c-469e-892a-9884260fce90",
   "metadata": {},
   "outputs": [
    {
     "data": {
      "text/plain": [
       "<_TensorSliceDataset element_spec=TensorSpec(shape=(), dtype=tf.int32, name=None)>"
      ]
     },
     "execution_count": 6,
     "metadata": {},
     "output_type": "execute_result"
    }
   ],
   "source": [
    "tf_dataset"
   ]
  },
  {
   "cell_type": "code",
   "execution_count": 7,
   "id": "548851ea-8d89-4786-bb7e-144be56511b6",
   "metadata": {},
   "outputs": [
    {
     "name": "stdout",
     "output_type": "stream",
     "text": [
      "tf.Tensor(10, shape=(), dtype=int32)\n",
      "tf.Tensor(-20, shape=(), dtype=int32)\n",
      "tf.Tensor(33, shape=(), dtype=int32)\n",
      "tf.Tensor(120, shape=(), dtype=int32)\n",
      "tf.Tensor(-40, shape=(), dtype=int32)\n",
      "tf.Tensor(4, shape=(), dtype=int32)\n",
      "tf.Tensor(65, shape=(), dtype=int32)\n",
      "tf.Tensor(90, shape=(), dtype=int32)\n",
      "tf.Tensor(-23, shape=(), dtype=int32)\n",
      "tf.Tensor(83, shape=(), dtype=int32)\n",
      "tf.Tensor(-1, shape=(), dtype=int32)\n",
      "tf.Tensor(34, shape=(), dtype=int32)\n",
      "tf.Tensor(-31, shape=(), dtype=int32)\n"
     ]
    }
   ],
   "source": [
    "# Printing the dataset\n",
    "\n",
    "for sales in tf_dataset:\n",
    "    print(sales)"
   ]
  },
  {
   "cell_type": "code",
   "execution_count": 8,
   "id": "51b65c7f-8c01-4e47-a968-8750fff15d30",
   "metadata": {},
   "outputs": [
    {
     "data": {
      "text/plain": [
       "tensorflow.python.data.ops.from_tensor_slices_op._TensorSliceDataset"
      ]
     },
     "execution_count": 8,
     "metadata": {},
     "output_type": "execute_result"
    }
   ],
   "source": [
    "type(tf_dataset)"
   ]
  },
  {
   "cell_type": "code",
   "execution_count": 9,
   "id": "6c9964c4-c2da-45dd-bea5-d847ed855965",
   "metadata": {},
   "outputs": [
    {
     "name": "stdout",
     "output_type": "stream",
     "text": [
      "10\n",
      "-20\n",
      "33\n",
      "120\n",
      "-40\n",
      "4\n",
      "65\n",
      "90\n",
      "-23\n",
      "83\n",
      "-1\n",
      "34\n",
      "-31\n"
     ]
    }
   ],
   "source": [
    "for sales in tf_dataset:\n",
    "    print(sales.numpy())"
   ]
  },
  {
   "cell_type": "code",
   "execution_count": 10,
   "id": "96abdacd-5acd-4389-bab3-d275d335bba2",
   "metadata": {},
   "outputs": [
    {
     "name": "stdout",
     "output_type": "stream",
     "text": [
      "10\n",
      "33\n",
      "120\n",
      "4\n",
      "65\n",
      "90\n",
      "83\n",
      "34\n"
     ]
    }
   ],
   "source": [
    "# Lets use filter function to remove negative numbers as sales cannot be negative\n",
    "\n",
    "tf_dataset = tf_dataset.filter(lambda x:x>0)\n",
    "\n",
    "for sales in tf_dataset:\n",
    "    print(sales.numpy())"
   ]
  },
  {
   "cell_type": "code",
   "execution_count": 11,
   "id": "e96620b0-5cc9-4e83-8918-12b10b53ef8b",
   "metadata": {},
   "outputs": [],
   "source": [
    "# Now lets consider all these sales are in US dollars and I need to convert it into rupees so I need to multiply it with 88\n",
    "\n",
    "tf_dataset = tf_dataset.map(lambda x:x*88)"
   ]
  },
  {
   "cell_type": "code",
   "execution_count": 12,
   "id": "25cab2e1-8b71-4826-b376-4a1539a025d7",
   "metadata": {},
   "outputs": [
    {
     "name": "stdout",
     "output_type": "stream",
     "text": [
      "880\n",
      "2904\n",
      "10560\n",
      "352\n",
      "5720\n",
      "7920\n",
      "7304\n",
      "2992\n"
     ]
    }
   ],
   "source": [
    "for sales in tf_dataset:\n",
    "    print(sales.numpy())"
   ]
  },
  {
   "cell_type": "code",
   "execution_count": 13,
   "id": "d65a6538-335d-4366-9810-0bb18000fd96",
   "metadata": {},
   "outputs": [
    {
     "name": "stdout",
     "output_type": "stream",
     "text": [
      "2904\n",
      "352\n",
      "5720\n",
      "10560\n",
      "880\n",
      "7304\n",
      "7920\n",
      "2992\n"
     ]
    }
   ],
   "source": [
    "# Also lets shyffle the sales \n",
    "\n",
    "tf_dataset = tf_dataset.shuffle(3)\n",
    "for sales in tf_dataset:\n",
    "    print(sales.numpy())"
   ]
  },
  {
   "cell_type": "code",
   "execution_count": 14,
   "id": "589e6c90-7fb9-454f-893e-daaccbe2f012",
   "metadata": {},
   "outputs": [],
   "source": [
    "# Now lets do all the operations in one line\n",
    "\n",
    "new_sales_data = [1,2,3,4,5,6,7,8,9,-10,-20,-30,-40]\n",
    "\n",
    "new_tf_dataset = tf.data.Dataset.from_tensor_slices(new_sales_data)\n",
    "\n",
    "new_tf_dataset = new_tf_dataset.filter(lambda x:x>0).map(lambda y:y*88).shuffle(3)"
   ]
  },
  {
   "cell_type": "code",
   "execution_count": 15,
   "id": "f0691f12-6924-437c-bd4d-67a045d426af",
   "metadata": {},
   "outputs": [
    {
     "name": "stdout",
     "output_type": "stream",
     "text": [
      "88\n",
      "264\n",
      "176\n",
      "440\n",
      "616\n",
      "352\n",
      "528\n",
      "704\n",
      "792\n"
     ]
    }
   ],
   "source": [
    "for sale in new_tf_dataset:\n",
    "    print(sale.numpy())"
   ]
  },
  {
   "cell_type": "code",
   "execution_count": 16,
   "id": "a0689aaf-fcbf-4cc3-920e-9d4ce575e14e",
   "metadata": {},
   "outputs": [],
   "source": [
    "# Now lets do the same with some images\n",
    "\n",
    "tf_images = tf.data.Dataset.list_files(\"data/images/*/*\", shuffle=False)"
   ]
  },
  {
   "cell_type": "code",
   "execution_count": 17,
   "id": "b0d6ec8d-cad9-4f6f-b9eb-4b07829642ab",
   "metadata": {},
   "outputs": [
    {
     "name": "stdout",
     "output_type": "stream",
     "text": [
      "b'data\\\\images\\\\cat\\\\20 Reasons Why Cats Make the Best Pets....jpg'\n",
      "b'data\\\\images\\\\cat\\\\7 Foods Your Cat Can_t Eat.jpg'\n",
      "b'data\\\\images\\\\cat\\\\A cat appears to have caught the....jpg'\n",
      "b'data\\\\images\\\\cat\\\\Adopt-A-Cat Month\\xc2\\xae - American Humane....jpg'\n",
      "b'data\\\\images\\\\cat\\\\All About Your Cat_s Tongue.jpg'\n"
     ]
    }
   ],
   "source": [
    "for items in tf_images.take(5):\n",
    "    print(items.numpy())"
   ]
  },
  {
   "cell_type": "code",
   "execution_count": 18,
   "id": "6b5efca1-8707-4c60-aea8-2e413d925ce8",
   "metadata": {},
   "outputs": [
    {
     "name": "stdout",
     "output_type": "stream",
     "text": [
      "b'data\\\\images\\\\dog\\\\11 Things Humans Do That Dogs Hate.jpg'\n",
      "b'data\\\\images\\\\cat\\\\Soon_ the internet will make its own....jpg'\n",
      "b'data\\\\images\\\\cat\\\\What to do if your cat is marking....jpg'\n",
      "b'data\\\\images\\\\dog\\\\356 Free Dog Stock Photos - CC0 Images.jpg'\n",
      "b'data\\\\images\\\\dog\\\\scientists explain puppy dog eyes....jpg'\n",
      "b'data\\\\images\\\\dog\\\\45 Best Large Dog Breeds - Top Big Dogs_yyth....jpg'\n",
      "b'data\\\\images\\\\dog\\\\8 amazing Indian dog breeds that....png'\n",
      "b'data\\\\images\\\\dog\\\\List of Dog Breeds _ Petfinder.jpg'\n",
      "b'data\\\\images\\\\dog\\\\AKC Pet Insurance _ Health Insurance....png'\n",
      "b'data\\\\images\\\\dog\\\\Trained dogs can smell coronavirus in....jpg'\n"
     ]
    }
   ],
   "source": [
    "# Now lets shuffle the dataset as we need to divide it into train and test dataset\n",
    "\n",
    "tf_images = tf_images.shuffle(200)\n",
    "for items in tf_images.take(10):\n",
    "    print(items.numpy())"
   ]
  },
  {
   "cell_type": "code",
   "execution_count": 19,
   "id": "2446e44e-230f-4b9d-b647-4484ee2ba0b5",
   "metadata": {},
   "outputs": [
    {
     "name": "stdout",
     "output_type": "stream",
     "text": [
      "130\n"
     ]
    }
   ],
   "source": [
    "# Now lets split the dataset into train and test\n",
    "\n",
    "size = len(tf_images)\n",
    "print(size)"
   ]
  },
  {
   "cell_type": "code",
   "execution_count": 20,
   "id": "340678d3-1b02-4841-9618-588a05dc3c7f",
   "metadata": {},
   "outputs": [],
   "source": [
    "# we will divide the train test into 80 - 20 split\n",
    "\n",
    "train_size = int(size*0.8)\n",
    "\n",
    "train_ds = tf_images.take(train_size)\n",
    "test_ds = tf_images.skip(train_size)"
   ]
  },
  {
   "cell_type": "code",
   "execution_count": 21,
   "id": "4c1680f8-e000-466a-9f03-a6482a32a245",
   "metadata": {},
   "outputs": [
    {
     "name": "stdout",
     "output_type": "stream",
     "text": [
      "Size of train and test is 104 and 26\n"
     ]
    }
   ],
   "source": [
    "print(\"Size of train and test is\", len(train_ds), \"and\", len(test_ds))"
   ]
  },
  {
   "cell_type": "code",
   "execution_count": 22,
   "id": "b4164a56-34b6-4587-8dc1-43e6bc6002ea",
   "metadata": {},
   "outputs": [
    {
     "name": "stdout",
     "output_type": "stream",
     "text": [
      "[\"b'data\", 'images', 'dog', \"Welcoming Your Adopted Dog Into Your....jpg'\"]\n"
     ]
    }
   ],
   "source": [
    "my_s = \"b'data\\\\images\\\\dog\\\\Welcoming Your Adopted Dog Into Your....jpg'\"\n",
    "\n",
    "print(my_s.split(\"\\\\\"))"
   ]
  },
  {
   "cell_type": "code",
   "execution_count": 23,
   "id": "59cd2b74-9d4c-4b7f-ad35-3c9fec10fd7f",
   "metadata": {},
   "outputs": [
    {
     "data": {
      "text/plain": [
       "'dog'"
      ]
     },
     "execution_count": 23,
     "metadata": {},
     "output_type": "execute_result"
    }
   ],
   "source": [
    "my_s.split(\"\\\\\")[-2]"
   ]
  },
  {
   "cell_type": "code",
   "execution_count": 24,
   "id": "fe738260-6238-42f4-b42b-76a04661262f",
   "metadata": {},
   "outputs": [
    {
     "name": "stdout",
     "output_type": "stream",
     "text": [
      "[\"b'data\", 'images', 'dog', \"Welcoming Your Adopted Dog Into Your....jpg'\"]\n",
      "dog\n"
     ]
    }
   ],
   "source": [
    "# Now for training we need the labels as well\n",
    "# we have two labes cat and dog but how we will retrieve it\n",
    "# Simple we will get it from the folders in which the individual images are saved in \n",
    "\n",
    "# For example\n",
    "my_s = \"b'data\\\\images\\\\dog\\\\Welcoming Your Adopted Dog Into Your....jpg'\"\n",
    "print(my_s.split(\"\\\\\"))\n",
    "print(my_s.split(\"\\\\\")[-2])\n"
   ]
  },
  {
   "cell_type": "code",
   "execution_count": 25,
   "id": "6a86fd9a-cfaf-413e-80c9-03c230ce38b9",
   "metadata": {},
   "outputs": [],
   "source": [
    "# Now lets create a function to do that\n",
    "\n",
    "def get_labels():\n",
    "\n",
    "    ans = []\n",
    "    for images in tf_images:\n",
    "        actual_labels = str(images.numpy()).split(\"\\\\\\\\\")[-2]\n",
    "        ans.append(actual_labels)\n",
    "    print(\"Labels created successfully\")\n",
    "    return ans\n",
    "\n",
    "\n"
   ]
  },
  {
   "cell_type": "code",
   "execution_count": 26,
   "id": "8336e5e8-8a53-4d1d-b95a-ab4110f5d6da",
   "metadata": {},
   "outputs": [
    {
     "name": "stdout",
     "output_type": "stream",
     "text": [
      "Labels created successfully\n"
     ]
    }
   ],
   "source": [
    "labels = get_labels()"
   ]
  },
  {
   "cell_type": "code",
   "execution_count": 27,
   "id": "e083d76b-c33b-47e6-b3db-79578eb9a92d",
   "metadata": {},
   "outputs": [
    {
     "name": "stdout",
     "output_type": "stream",
     "text": [
      "['dog', 'cat', 'cat', 'dog', 'dog', 'dog', 'dog', 'dog', 'cat', 'dog']\n",
      "130\n"
     ]
    }
   ],
   "source": [
    "print(labels[:10])\n",
    "print(len(labels))"
   ]
  },
  {
   "cell_type": "code",
   "execution_count": 28,
   "id": "244d5747-8e27-45b6-ab5c-590ee7cac985",
   "metadata": {},
   "outputs": [],
   "source": [
    "# Now lets modify this function to create labels for train and test\n",
    "\n",
    "\n",
    "def train_test_labels(ds):\n",
    "    ans = []\n",
    "    for images in ds:\n",
    "        actual_labels = str(images.numpy()).split(\"\\\\\\\\\")[-2]\n",
    "        ans.append(actual_labels)\n",
    "    print(\"Labels created successfully\")\n",
    "    return ans\n",
    "    \n",
    "    "
   ]
  },
  {
   "cell_type": "code",
   "execution_count": 29,
   "id": "ca11521e-4ae0-4cbd-9628-cb305ed356e4",
   "metadata": {},
   "outputs": [
    {
     "name": "stdout",
     "output_type": "stream",
     "text": [
      "Labels created successfully\n"
     ]
    }
   ],
   "source": [
    "train_labels = train_test_labels(train_ds)"
   ]
  },
  {
   "cell_type": "code",
   "execution_count": 30,
   "id": "b4feb6fb-c37f-403a-b429-37202a666e50",
   "metadata": {},
   "outputs": [
    {
     "name": "stdout",
     "output_type": "stream",
     "text": [
      "104\n"
     ]
    }
   ],
   "source": [
    "print(len(train_labels))"
   ]
  },
  {
   "cell_type": "code",
   "execution_count": 31,
   "id": "785f5ff2-2ae5-4df9-b084-c732aff5d382",
   "metadata": {},
   "outputs": [
    {
     "name": "stdout",
     "output_type": "stream",
     "text": [
      "Labels created successfully\n"
     ]
    }
   ],
   "source": [
    "test_labels = train_test_labels(test_ds)"
   ]
  },
  {
   "cell_type": "code",
   "execution_count": 32,
   "id": "ac7479ce-4996-43e6-a763-ffba0503903d",
   "metadata": {},
   "outputs": [
    {
     "name": "stdout",
     "output_type": "stream",
     "text": [
      "26\n"
     ]
    }
   ],
   "source": [
    "print(len(test_labels))"
   ]
  },
  {
   "cell_type": "code",
   "execution_count": 96,
   "id": "ee78251c-28aa-4c05-9292-ef805bac520e",
   "metadata": {},
   "outputs": [],
   "source": []
  },
  {
   "cell_type": "code",
   "execution_count": 93,
   "id": "39012789-6351-46de-afe1-ad005cf88ff0",
   "metadata": {},
   "outputs": [],
   "source": [
    "# Now lets apply the same pipeline to images\n",
    "def process_images():\n",
    "\n",
    "    for items in tf_images.take(3):\n",
    "        img = tf.image.decode_jpeg(items.numpy())\n",
    "        print(img)\n",
    "        \n",
    "        "
   ]
  },
  {
   "cell_type": "code",
   "execution_count": 121,
   "id": "2b311354-971c-4f1c-a0fa-fbc20ea8e650",
   "metadata": {},
   "outputs": [],
   "source": [
    "def get_label(file_path):\n",
    "    import os\n",
    "    parts = tf.strings.split(file_path, os.path.sep)\n",
    "    return parts[-2]"
   ]
  },
  {
   "cell_type": "code",
   "execution_count": 122,
   "id": "9c1273d7-eba0-4bac-b7ff-6e76a6e77030",
   "metadata": {},
   "outputs": [
    {
     "data": {
      "text/plain": [
       "<tf.Tensor: shape=(), dtype=string, numpy=b'dog'>"
      ]
     },
     "execution_count": 122,
     "metadata": {},
     "output_type": "execute_result"
    }
   ],
   "source": [
    "get_label(\"data\\\\images\\\\dog\\\\20 Reasons Why Cats Make the Best Pets....jpg\")"
   ]
  },
  {
   "cell_type": "code",
   "execution_count": 123,
   "id": "ecdf85aa-9242-425d-acb5-b59cf8fe840f",
   "metadata": {},
   "outputs": [],
   "source": [
    "def process_image(file_path):\n",
    "    label = get_label(file_path)\n",
    "    img = tf.io.read_file(file_path) # load the raw data from the file as a string\n",
    "    img = tf.image.decode_jpeg(img)\n",
    "    img = tf.image.resize(img, [128, 128])\n",
    "    return img, label"
   ]
  },
  {
   "cell_type": "code",
   "execution_count": 126,
   "id": "9f8b9cf5-35b5-4aaf-9a06-39b71d1445b5",
   "metadata": {
    "scrolled": true
   },
   "outputs": [
    {
     "data": {
      "text/plain": [
       "array([[[155.      , 186.      , 215.      ],\n",
       "        [156.      , 187.      , 216.      ],\n",
       "        [158.      , 189.      , 218.      ],\n",
       "        [160.0039  , 189.0039  , 219.0039  ],\n",
       "        [161.0039  , 190.0039  , 220.0039  ],\n",
       "        [162.      , 191.      , 221.      ],\n",
       "        [166.      , 193.      , 222.      ],\n",
       "        [167.      , 194.      , 223.      ],\n",
       "        [168.      , 195.      , 224.      ],\n",
       "        [169.      , 196.      , 225.      ],\n",
       "        [170.      , 197.      , 224.      ],\n",
       "        [170.0039  , 197.0039  , 224.0039  ],\n",
       "        [172.      , 199.      , 226.      ],\n",
       "        [173.0039  , 199.0039  , 224.0039  ],\n",
       "        [174.0039  , 200.0039  , 225.0039  ],\n",
       "        [175.0039  , 201.0039  , 226.0039  ],\n",
       "        [176.      , 202.      , 227.      ],\n",
       "        [177.0039  , 203.0039  , 228.0039  ],\n",
       "        [177.0039  , 203.0039  , 228.0039  ],\n",
       "        [179.0039  , 203.0039  , 227.0039  ],\n",
       "        [180.0039  , 204.0039  , 228.0039  ],\n",
       "        [180.0039  , 204.0039  , 228.0039  ],\n",
       "        [181.0039  , 206.0039  , 228.0039  ],\n",
       "        [182.0039  , 207.0039  , 229.0039  ],\n",
       "        [184.      , 209.      , 231.      ],\n",
       "        [184.      , 209.      , 231.      ],\n",
       "        [184.      , 209.      , 231.      ],\n",
       "        [184.      , 209.      , 231.      ],\n",
       "        [182.9961  , 207.9961  , 229.9961  ],\n",
       "        [174.9961  , 201.9961  , 222.9961  ],\n",
       "        [168.9961  , 195.9961  , 216.9961  ],\n",
       "        [158.99219 , 185.99219 , 206.99219 ],\n",
       "        [143.9961  , 168.9961  , 190.9961  ],\n",
       "        [131.9961  , 148.98828 , 168.98438 ],\n",
       "        [115.98828 , 126.97266 , 132.97266 ],\n",
       "        [106.98047 , 102.984375,  99.97656 ],\n",
       "        [ 98.99219 ,  95.984375,  90.98047 ],\n",
       "        [ 97.99219 ,  95.99219 ,  83.98828 ],\n",
       "        [ 97.99219 ,  91.99219 ,  77.99219 ],\n",
       "        [ 98.99609 ,  91.99609 ,  75.99609 ],\n",
       "        [ 99.      ,  92.      ,  74.      ],\n",
       "        [102.      ,  95.      ,  77.      ],\n",
       "        [112.99609 , 103.99609 ,  86.99609 ],\n",
       "        [125.99609 , 113.99609 ,  99.99609 ],\n",
       "        [133.99219 , 119.99219 , 108.99219 ],\n",
       "        [139.99219 , 127.99219 , 113.99219 ],\n",
       "        [143.9961  , 131.9961  , 117.99609 ],\n",
       "        [143.9961  , 131.9961  , 117.99609 ],\n",
       "        [142.      , 128.      , 119.      ],\n",
       "        [135.0039  , 122.00391 , 113.00391 ],\n",
       "        [122.00391 , 114.00391 , 103.00391 ],\n",
       "        [112.00391 , 103.00391 ,  94.00391 ],\n",
       "        [102.00391 ,  95.00391 ,  87.00391 ],\n",
       "        [ 91.      ,  86.      ,  80.      ],\n",
       "        [ 83.      ,  78.      ,  72.      ],\n",
       "        [ 75.00391 ,  70.00391 ,  64.00391 ],\n",
       "        [ 69.      ,  64.      ,  58.      ],\n",
       "        [ 61.      ,  58.      ,  51.      ],\n",
       "        [ 59.      ,  54.      ,  51.      ],\n",
       "        [ 61.996094,  52.996094,  55.996094],\n",
       "        [ 62.996094,  49.996094,  58.996094],\n",
       "        [ 61.      ,  49.      ,  53.      ],\n",
       "        [ 60.      ,  48.      ,  52.      ],\n",
       "        [ 59.      ,  47.      ,  51.      ],\n",
       "        [ 57.      ,  45.      ,  49.      ],\n",
       "        [ 55.      ,  45.      ,  44.      ],\n",
       "        [ 50.996094,  43.996094,  37.996094],\n",
       "        [ 45.996094,  42.996094,  35.996094],\n",
       "        [ 45.996094,  42.996094,  33.996094],\n",
       "        [ 45.      ,  43.      ,  31.      ],\n",
       "        [ 46.      ,  44.      ,  31.      ],\n",
       "        [ 48.      ,  46.      ,  33.      ],\n",
       "        [ 48.      ,  46.      ,  33.      ],\n",
       "        [ 49.003906,  47.003906,  34.003906],\n",
       "        [ 57.003906,  55.003906,  42.003906],\n",
       "        [ 63.007812,  61.007812,  48.007812],\n",
       "        [ 71.01172 ,  69.01172 ,  56.01172 ],\n",
       "        [ 75.01172 ,  73.01172 ,  61.01172 ],\n",
       "        [ 77.00781 ,  75.00781 ,  63.007812],\n",
       "        [ 78.00391 ,  76.00391 ,  64.00391 ],\n",
       "        [ 77.00391 ,  75.00391 ,  63.003906],\n",
       "        [ 74.00781 ,  72.00781 ,  59.007812],\n",
       "        [ 73.00391 ,  71.00391 ,  56.003906],\n",
       "        [ 77.00391 ,  71.00391 ,  55.003906],\n",
       "        [ 82.      ,  76.      ,  60.      ],\n",
       "        [ 85.00391 ,  79.00391 ,  63.003906],\n",
       "        [ 88.      ,  82.      ,  70.      ],\n",
       "        [ 88.      ,  81.      ,  71.      ],\n",
       "        [ 85.      ,  82.      ,  75.      ],\n",
       "        [ 83.      ,  80.      ,  73.      ],\n",
       "        [ 77.99609 ,  76.99609 ,  71.99609 ],\n",
       "        [ 74.99609 ,  73.99609 ,  69.99609 ],\n",
       "        [ 72.      ,  71.      ,  69.      ],\n",
       "        [ 70.      ,  69.      ,  65.      ],\n",
       "        [ 69.      ,  68.      ,  64.      ],\n",
       "        [ 69.      ,  68.      ,  64.      ],\n",
       "        [ 70.      ,  69.      ,  65.      ],\n",
       "        [ 71.      ,  70.      ,  66.      ],\n",
       "        [ 70.      ,  69.      ,  65.      ],\n",
       "        [ 69.99609 ,  68.99609 ,  66.99609 ],\n",
       "        [ 68.      ,  67.      ,  65.      ],\n",
       "        [ 66.      ,  65.      ,  63.      ],\n",
       "        [ 64.      ,  63.      ,  59.      ],\n",
       "        [ 63.      ,  62.      ,  58.      ],\n",
       "        [ 63.      ,  62.      ,  58.      ],\n",
       "        [ 65.      ,  64.      ,  60.      ],\n",
       "        [ 69.00391 ,  70.00391 ,  65.00391 ],\n",
       "        [ 78.00391 ,  78.00391 ,  69.99609 ],\n",
       "        [ 89.00781 ,  87.00781 ,  75.00781 ],\n",
       "        [103.00391 ,  97.00391 ,  83.00391 ],\n",
       "        [113.01172 , 106.01172 ,  90.01172 ],\n",
       "        [123.00781 , 114.00781 ,  97.00781 ],\n",
       "        [135.01172 , 124.01172 , 102.01172 ],\n",
       "        [144.00781 , 133.00781 , 111.00781 ],\n",
       "        [149.0039  , 138.0039  , 116.00391 ],\n",
       "        [149.00781 , 137.00781 , 111.00781 ],\n",
       "        [147.0039  , 135.0039  , 111.00391 ],\n",
       "        [145.0039  , 133.0039  , 111.00391 ],\n",
       "        [140.0039  , 127.00391 , 108.00391 ],\n",
       "        [130.0039  , 119.00391 , 101.00391 ],\n",
       "        [118.00391 , 108.00391 ,  96.00391 ],\n",
       "        [108.      , 100.      ,  89.      ],\n",
       "        [ 99.      ,  93.      ,  79.      ],\n",
       "        [ 96.99609 ,  90.99609 ,  76.99609 ],\n",
       "        [ 94.      ,  88.      ,  74.      ],\n",
       "        [ 90.99609 ,  84.99609 ,  72.99609 ],\n",
       "        [ 92.      ,  86.      ,  74.      ],\n",
       "        [ 93.      ,  87.      ,  75.      ]],\n",
       "\n",
       "       [[156.01172 , 187.01172 , 216.01172 ],\n",
       "        [157.02344 , 188.02344 , 217.02344 ],\n",
       "        [159.01172 , 190.01172 , 219.01172 ],\n",
       "        [162.      , 191.      , 221.      ],\n",
       "        [163.      , 192.      , 222.      ],\n",
       "        [164.01172 , 193.01172 , 223.01172 ],\n",
       "        [167.01172 , 194.01172 , 223.01172 ],\n",
       "        [168.01172 , 195.01172 , 224.01172 ],\n",
       "        [169.      , 196.      , 225.      ],\n",
       "        [170.01172 , 197.01172 , 226.01172 ],\n",
       "        [171.01172 , 198.01172 , 225.01172 ],\n",
       "        [172.      , 199.      , 226.      ],\n",
       "        [173.      , 200.      , 227.      ],\n",
       "        [175.      , 201.      , 226.      ],\n",
       "        [176.      , 202.      , 227.      ],\n",
       "        [177.      , 203.      , 228.      ],\n",
       "        [177.      , 203.      , 228.      ],\n",
       "        [178.98828 , 204.98828 , 229.98828 ],\n",
       "        [179.      , 205.      , 230.      ],\n",
       "        [181.      , 205.      , 229.      ],\n",
       "        [182.      , 206.      , 230.      ],\n",
       "        [182.      , 206.      , 230.      ],\n",
       "        [183.      , 208.      , 230.      ],\n",
       "        [184.      , 209.      , 231.      ],\n",
       "        [184.98828 , 209.98828 , 231.98828 ],\n",
       "        [184.97656 , 209.97656 , 231.97656 ],\n",
       "        [186.      , 207.98828 , 230.96484 ],\n",
       "        [185.      , 206.98828 , 229.96484 ],\n",
       "        [180.01172 , 202.      , 224.97656 ],\n",
       "        [173.01172 , 194.98828 , 218.98828 ],\n",
       "        [167.01172 , 186.98828 , 210.96484 ],\n",
       "        [154.02344 , 175.      , 193.97656 ],\n",
       "        [138.      , 158.97656 , 177.92969 ],\n",
       "        [125.98828 , 136.95312 , 142.91797 ],\n",
       "        [109.      , 105.98828 ,  98.96484 ],\n",
       "        [101.01172 ,  93.      ,  79.97656 ],\n",
       "        [ 99.03516 ,  91.02344 ,  78.      ],\n",
       "        [ 99.      ,  91.97656 ,  73.98828 ],\n",
       "        [ 98.97656 ,  90.97656 ,  77.97656 ],\n",
       "        [ 99.      ,  92.      ,  76.      ],\n",
       "        [ 99.      ,  92.      ,  74.      ],\n",
       "        [101.96484 ,  94.96484 ,  76.96484 ],\n",
       "        [109.98828 , 100.98828 ,  85.98828 ],\n",
       "        [120.01172 , 108.01172 ,  96.01172 ],\n",
       "        [131.01172 , 117.01172 , 108.01172 ],\n",
       "        [138.02344 , 126.01172 , 114.046875],\n",
       "        [143.      , 130.98828 , 119.02344 ],\n",
       "        [146.01172 , 134.      , 122.03516 ],\n",
       "        [144.02344 , 130.02344 , 121.02344 ],\n",
       "        [138.98828 , 125.98828 , 116.98828 ],\n",
       "        [128.01172 , 120.01172 , 109.01172 ],\n",
       "        [115.02344 , 106.02344 ,  97.02344 ],\n",
       "        [105.01172 ,  98.01172 ,  90.01172 ],\n",
       "        [ 92.98828 ,  87.98828 ,  81.98828 ],\n",
       "        [ 82.98828 ,  79.98828 ,  72.98828 ],\n",
       "        [ 76.      ,  73.      ,  66.      ],\n",
       "        [ 68.01172 ,  65.01172 ,  58.01172 ],\n",
       "        [ 61.      ,  58.      ,  51.      ],\n",
       "        [ 59.      ,  54.      ,  51.      ],\n",
       "        [ 60.023438,  51.023438,  54.023438],\n",
       "        [ 61.01172 ,  48.01172 ,  57.01172 ],\n",
       "        [ 60.      ,  48.      ,  52.      ],\n",
       "        [ 60.01172 ,  48.01172 ,  52.01172 ],\n",
       "        [ 59.      ,  47.      ,  51.      ],\n",
       "        [ 56.      ,  46.      ,  47.      ],\n",
       "        [ 53.98828 ,  45.98828 ,  42.98828 ],\n",
       "        [ 45.98828 ,  41.98828 ,  32.98828 ],\n",
       "        [ 42.98828 ,  40.      ,  30.964844],\n",
       "        [ 42.98828 ,  40.98828 ,  28.976562],\n",
       "        [ 43.98828 ,  41.98828 ,  28.964844],\n",
       "        [ 46.      ,  44.      ,  31.      ],\n",
       "        [ 48.035156,  46.035156,  33.035156],\n",
       "        [ 51.046875,  49.046875,  36.046875],\n",
       "        [ 58.046875,  56.046875,  43.046875],\n",
       "        [ 70.01172 ,  66.01172 ,  54.01172 ],\n",
       "        [ 76.03516 ,  72.03516 ,  60.035156],\n",
       "        [ 84.05859 ,  80.05859 ,  68.05859 ],\n",
       "        [ 87.03516 ,  85.03516 ,  73.03516 ],\n",
       "        [ 85.05859 ,  83.05859 ,  71.05859 ],\n",
       "        [ 86.02344 ,  84.02344 ,  72.02344 ],\n",
       "        [ 83.02344 ,  80.02344 ,  71.046875],\n",
       "        [ 81.01172 ,  79.      ,  67.03516 ],\n",
       "        [ 79.02344 ,  77.02344 ,  64.02344 ],\n",
       "        [ 83.01172 ,  77.01172 ,  63.035156],\n",
       "        [ 84.02344 ,  78.02344 ,  64.046875],\n",
       "        [ 88.      ,  82.      ,  68.02344 ],\n",
       "        [ 89.98828 ,  82.98828 ,  72.98828 ],\n",
       "        [ 90.01172 ,  83.01172 ,  73.01172 ],\n",
       "        [ 85.      ,  82.      ,  75.      ],\n",
       "        [ 83.      ,  80.      ,  73.      ],\n",
       "        [ 76.      ,  75.      ,  70.      ],\n",
       "        [ 73.01172 ,  72.01172 ,  68.01172 ],\n",
       "        [ 71.      ,  70.      ,  68.      ],\n",
       "        [ 70.      ,  69.      ,  65.      ],\n",
       "        [ 69.      ,  68.      ,  64.      ],\n",
       "        [ 69.      ,  68.      ,  64.      ],\n",
       "        [ 69.      ,  68.      ,  64.      ],\n",
       "        [ 69.98828 ,  68.98828 ,  64.98828 ],\n",
       "        [ 69.      ,  68.      ,  64.      ],\n",
       "        [ 67.98828 ,  66.98828 ,  62.98828 ],\n",
       "        [ 66.98828 ,  65.98828 ,  61.98828 ],\n",
       "        [ 64.98828 ,  63.98828 ,  59.98828 ],\n",
       "        [ 63.      ,  62.      ,  58.      ],\n",
       "        [ 62.      ,  61.      ,  57.      ],\n",
       "        [ 63.      ,  62.      ,  58.      ],\n",
       "        [ 65.02344 ,  64.02344 ,  60.023438],\n",
       "        [ 72.03516 ,  71.01172 ,  65.98828 ],\n",
       "        [ 83.02344 ,  80.01172 ,  70.98828 ],\n",
       "        [ 96.03516 ,  92.01172 ,  79.98828 ],\n",
       "        [112.03516 , 106.02344 ,  90.02344 ],\n",
       "        [127.02344 , 118.03516 , 101.01172 ],\n",
       "        [135.0586  , 127.02344 , 108.03516 ],\n",
       "        [145.98828 , 134.98828 , 112.98828 ],\n",
       "        [150.98828 , 139.98828 , 117.98828 ],\n",
       "        [152.01172 , 141.01172 , 119.01172 ],\n",
       "        [150.98828 , 139.01172 , 115.      ],\n",
       "        [144.98828 , 133.      , 111.      ],\n",
       "        [143.98828 , 131.01172 , 112.      ],\n",
       "        [139.98828 , 128.98828 , 110.98828 ],\n",
       "        [130.97656 , 119.01172 , 103.02344 ],\n",
       "        [118.98828 , 110.98828 ,  99.98828 ],\n",
       "        [107.96484 , 100.96484 ,  90.96484 ],\n",
       "        [ 96.97656 ,  92.97656 ,  82.      ],\n",
       "        [ 92.01172 ,  88.01172 ,  77.03516 ],\n",
       "        [ 89.98828 ,  85.98828 ,  75.01172 ],\n",
       "        [ 86.98828 ,  82.97656 ,  74.01172 ],\n",
       "        [ 89.97656 ,  85.96484 ,  77.      ],\n",
       "        [ 91.      ,  86.98828 ,  78.02344 ]]], dtype=float32)"
      ]
     },
     "execution_count": 126,
     "metadata": {},
     "output_type": "execute_result"
    }
   ],
   "source": [
    "img, label = process_image(\"data\\\\images\\\\cat\\\\20 Reasons Why Cats Make the Best Pets....jpg\")\n",
    "img.numpy()[:2]"
   ]
  },
  {
   "cell_type": "code",
   "execution_count": 127,
   "id": "2888d215-6cec-4a3f-a286-c67f4ebdbf42",
   "metadata": {},
   "outputs": [],
   "source": [
    "my_train = train_ds.map(process_image)"
   ]
  },
  {
   "cell_type": "code",
   "execution_count": 132,
   "id": "c1fe3978-4790-4305-b820-fa0a0a734508",
   "metadata": {
    "scrolled": true
   },
   "outputs": [
    {
     "name": "stdout",
     "output_type": "stream",
     "text": [
      "(<tf.Tensor: shape=(128, 128, 3), dtype=float32, numpy=\n",
      "array([[[ 27.960938  ,  41.960938  ,   7.8984375 ],\n",
      "        [ 76.53308   , 104.23547   ,   3.74646   ],\n",
      "        [ 47.391235  ,  65.28186   ,   0.        ],\n",
      "        ...,\n",
      "        [ 20.742188  ,  38.742188  ,  14.615967  ],\n",
      "        [ 19.296509  ,  34.405518  ,   2.7034912 ],\n",
      "        [ 27.496216  ,  47.749878  ,   5.7072754 ]],\n",
      "\n",
      "       [[ 23.094116  ,  37.562866  ,   0.6878662 ],\n",
      "        [ 24.03125   ,  39.170776  ,   4.3013916 ],\n",
      "        [ 10.427612  ,  26.529663  ,   0.84558105],\n",
      "        ...,\n",
      "        [ 48.42859   ,  71.79004   ,  16.653076  ],\n",
      "        [ 18.929688  ,  44.153442  ,   2.199829  ],\n",
      "        [ 55.457764  ,  94.08203   ,   2.2180176 ]],\n",
      "\n",
      "       [[ 15.507202  ,  35.057983  ,   0.9753418 ],\n",
      "        [ 49.307007  ,  77.95752   ,   0.        ],\n",
      "        [ 61.085083  ,  90.08508   ,   0.6311035 ],\n",
      "        ...,\n",
      "        [ 51.35376   ,  74.27173   ,   0.274292  ],\n",
      "        [ 66.38257   ,  95.091675  ,   0.7369385 ],\n",
      "        [ 94.66992   , 124.27869   ,   5.079712  ]],\n",
      "\n",
      "       ...,\n",
      "\n",
      "       [[ 20.715454  ,  36.633423  ,  10.449219  ],\n",
      "        [ 40.072144  ,  64.66589   ,   1.1520996 ],\n",
      "        [ 20.397583  ,  46.397583  ,   0.        ],\n",
      "        ...,\n",
      "        [ 46.325073  ,  55.84546   ,   7.038208  ],\n",
      "        [ 12.068726  ,  21.068726  ,   2.8812256 ],\n",
      "        [ 32.285767  ,  37.899048  ,   7.739502  ]],\n",
      "\n",
      "       [[ 39.37854   ,  54.944214  ,  12.925415  ],\n",
      "        [ 49.963745  ,  77.557495  ,   0.        ],\n",
      "        [ 28.73645   ,  55.92578   ,   0.9473877 ],\n",
      "        ...,\n",
      "        [ 65.65625   ,  76.08777   ,   0.7229004 ],\n",
      "        [ 31.718262  ,  40.487793  ,   0.67126465],\n",
      "        [ 17.605835  ,  31.347656  ,   8.223755  ]],\n",
      "\n",
      "       [[ 33.93347   ,  49.117065  ,   5.749878  ],\n",
      "        [ 25.074951  ,  47.258545  ,   0.4847412 ],\n",
      "        [ 27.65564   ,  45.366577  ,   0.        ],\n",
      "        ...,\n",
      "        [ 34.46814   ,  47.946533  ,   2.2382812 ],\n",
      "        [ 43.947754  ,  53.76416   ,   0.        ],\n",
      "        [ 36.46472   ,  55.99597   ,   1.0900879 ]]],\n",
      "      shape=(128, 128, 3), dtype=float32)>, <tf.Tensor: shape=(), dtype=string, numpy=b'dog'>)\n"
     ]
    }
   ],
   "source": [
    "for i in my_train.take(1):\n",
    "    print(i)"
   ]
  },
  {
   "cell_type": "code",
   "execution_count": 134,
   "id": "d0f68204-6d7f-4000-a255-a33f13088aca",
   "metadata": {},
   "outputs": [
    {
     "name": "stdout",
     "output_type": "stream",
     "text": [
      "****Image:  [219.4961 201.4961 177.4961]\n",
      "****Label:  b'dog'\n",
      "****Image:  [155. 186. 215.]\n",
      "****Label:  b'cat'\n",
      "****Image:  [211.1836 209.1836 196.1836]\n",
      "****Label:  b'cat'\n",
      "****Image:  [113.  73.  12.]\n",
      "****Label:  b'dog'\n",
      "****Image:  [ 71. 112.  76.   0.]\n",
      "****Label:  b'cat'\n"
     ]
    }
   ],
   "source": [
    "for image, label in my_train.take(5):\n",
    "    print(\"****Image: \",image.numpy()[0][0])\n",
    "    print(\"****Label: \",label.numpy())"
   ]
  },
  {
   "cell_type": "code",
   "execution_count": 137,
   "id": "5577316e-5c43-4830-a90d-2c51a5e4a87e",
   "metadata": {},
   "outputs": [
    {
     "name": "stdout",
     "output_type": "stream",
     "text": [
      "Image** tf.Tensor([15. 12.  5.], shape=(3,), dtype=float32)\n",
      "Label** tf.Tensor(b'cat', shape=(), dtype=string)\n",
      "Image** tf.Tensor([197.28906 206.28906 201.75781], shape=(3,), dtype=float32)\n",
      "Label** tf.Tensor(b'cat', shape=(), dtype=string)\n",
      "Image** tf.Tensor([38.08435  50.112427 36.09839 ], shape=(3,), dtype=float32)\n",
      "Label** tf.Tensor(b'cat', shape=(), dtype=string)\n",
      "Image** tf.Tensor([254. 254. 254.], shape=(3,), dtype=float32)\n",
      "Label** tf.Tensor(b'dog', shape=(), dtype=string)\n",
      "Image** tf.Tensor([205.44531 191.44531 190.44531], shape=(3,), dtype=float32)\n",
      "Label** tf.Tensor(b'dog', shape=(), dtype=string)\n"
     ]
    }
   ],
   "source": [
    "for img, lab in train_ds.map(process_image).take(5):\n",
    "    print(\"Image**\",img[0][0])\n",
    "    print(\"Label**\",lab)\n",
    "    "
   ]
  },
  {
   "cell_type": "code",
   "execution_count": 138,
   "id": "dbb062be-97a7-4b28-be69-f3dfbf2baf01",
   "metadata": {},
   "outputs": [],
   "source": [
    "def scale_image(image, label):\n",
    "    image = image/255\n",
    "    return image, label"
   ]
  },
  {
   "cell_type": "code",
   "execution_count": 139,
   "id": "e6d5932d-f6b2-46f0-b161-f8c89fd81095",
   "metadata": {},
   "outputs": [],
   "source": [
    "# Now lets scale the dataset\n",
    "\n",
    "scaled_trained_ds = my_train.map(scale_image)"
   ]
  },
  {
   "cell_type": "code",
   "execution_count": 153,
   "id": "565a687e-1784-402c-a6dd-8e05fb6dd744",
   "metadata": {},
   "outputs": [
    {
     "name": "stdout",
     "output_type": "stream",
     "text": [
      "Image** tf.Tensor([0.5058824  0.5764706  0.24705882], shape=(3,), dtype=float32)\n",
      "Label** tf.Tensor(b'cat', shape=(), dtype=string)\n",
      "Image** tf.Tensor([0.62766546 0.5771446  0.5487132 ], shape=(3,), dtype=float32)\n",
      "Label** tf.Tensor(b'cat', shape=(), dtype=string)\n",
      "Image** tf.Tensor([0.04113051 0.00382966 0.00229779], shape=(3,), dtype=float32)\n",
      "Label** tf.Tensor(b'dog', shape=(), dtype=string)\n",
      "Image** tf.Tensor([0.32156864 0.32156864 0.32156864 1.        ], shape=(4,), dtype=float32)\n",
      "Label** tf.Tensor(b'cat', shape=(), dtype=string)\n",
      "Image** tf.Tensor([0.49607843 0.4254902  0.38627452], shape=(3,), dtype=float32)\n",
      "Label** tf.Tensor(b'cat', shape=(), dtype=string)\n"
     ]
    }
   ],
   "source": [
    "for img, lab in scaled_trained_ds.take(5):\n",
    "    print(\"Image**\",img[0][0])\n",
    "    print(\"Label**\",lab)\n",
    "    \n",
    "    "
   ]
  },
  {
   "cell_type": "code",
   "execution_count": 150,
   "id": "2412efcc-46c1-4b34-b94d-472b8a9943de",
   "metadata": {},
   "outputs": [
    {
     "name": "stdout",
     "output_type": "stream",
     "text": [
      "(<tf.Tensor: shape=(128, 128, 3), dtype=float32, numpy=\n",
      "array([[[38.40625 , 47.5     , 51.828125],\n",
      "        [32.9375  , 39.9375  , 45.9375  ],\n",
      "        [35.765625, 42.765625, 48.765625],\n",
      "        ...,\n",
      "        [39.171875, 49.421875, 57.671875],\n",
      "        [43.1875  , 54.6875  , 60.6875  ],\n",
      "        [49.59375 , 60.59375 , 64.59375 ]],\n",
      "\n",
      "       [[41.296875, 50.296875, 55.296875],\n",
      "        [39.1875  , 46.1875  , 52.1875  ],\n",
      "        [37.1875  , 44.1875  , 50.1875  ],\n",
      "        ...,\n",
      "        [34.3125  , 44.3125  , 53.3125  ],\n",
      "        [38.671875, 49.671875, 55.671875],\n",
      "        [39.890625, 50.890625, 56.890625]],\n",
      "\n",
      "       [[39.34375 , 48.96875 , 53.65625 ],\n",
      "        [38.703125, 47.703125, 54.703125],\n",
      "        [36.265625, 45.265625, 50.265625],\n",
      "        ...,\n",
      "        [39.6875  , 49.6875  , 58.6875  ],\n",
      "        [41.015625, 54.015625, 62.015625],\n",
      "        [42.4375  , 52.4375  , 61.4375  ]],\n",
      "\n",
      "       ...,\n",
      "\n",
      "       [[80.046875, 76.75    , 75.515625],\n",
      "        [86.296875, 82.296875, 81.296875],\n",
      "        [95.984375, 86.984375, 81.984375],\n",
      "        ...,\n",
      "        [28.578125, 35.578125, 43.578125],\n",
      "        [28.734375, 35.734375, 43.734375],\n",
      "        [26.265625, 33.265625, 41.265625]],\n",
      "\n",
      "       [[68.609375, 70.609375, 69.609375],\n",
      "        [76.015625, 74.015625, 75.015625],\n",
      "        [85.859375, 85.859375, 87.859375],\n",
      "        ...,\n",
      "        [26.921875, 33.921875, 39.921875],\n",
      "        [27.9375  , 34.9375  , 42.9375  ],\n",
      "        [25.046875, 32.046875, 40.046875]],\n",
      "\n",
      "       [[53.796875, 61.046875, 64.046875],\n",
      "        [65.453125, 70.109375, 72.625   ],\n",
      "        [97.265625, 87.265625, 86.015625],\n",
      "        ...,\n",
      "        [25.25    , 33.75    , 42.5     ],\n",
      "        [25.609375, 32.609375, 40.609375],\n",
      "        [29.078125, 36.078125, 44.078125]]],\n",
      "      shape=(128, 128, 3), dtype=float32)>, <tf.Tensor: shape=(), dtype=string, numpy=b'dog'>)\n"
     ]
    }
   ],
   "source": [
    "for i in my_train.take(1):\n",
    "    print(i)\n",
    "    "
   ]
  },
  {
   "cell_type": "code",
   "execution_count": null,
   "id": "555fdb7a-5e71-4129-b465-9f4603e6f915",
   "metadata": {},
   "outputs": [],
   "source": []
  },
  {
   "cell_type": "code",
   "execution_count": null,
   "id": "134fdd64-4189-46eb-a11a-35a69bf8b915",
   "metadata": {},
   "outputs": [],
   "source": []
  },
  {
   "cell_type": "code",
   "execution_count": null,
   "id": "df408672-eacd-4e17-b67c-85ae58d38d8d",
   "metadata": {},
   "outputs": [],
   "source": []
  }
 ],
 "metadata": {
  "kernelspec": {
   "display_name": "Python 3 (ipykernel)",
   "language": "python",
   "name": "python3"
  },
  "language_info": {
   "codemirror_mode": {
    "name": "ipython",
    "version": 3
   },
   "file_extension": ".py",
   "mimetype": "text/x-python",
   "name": "python",
   "nbconvert_exporter": "python",
   "pygments_lexer": "ipython3",
   "version": "3.13.5"
  }
 },
 "nbformat": 4,
 "nbformat_minor": 5
}
